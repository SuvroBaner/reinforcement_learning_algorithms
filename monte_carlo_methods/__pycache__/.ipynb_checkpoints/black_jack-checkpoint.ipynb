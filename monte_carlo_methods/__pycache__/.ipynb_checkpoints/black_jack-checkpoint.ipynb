{
 "cells": [
  {
   "cell_type": "markdown",
   "id": "1cd05714-0c9a-4d55-a137-f836cf047f77",
   "metadata": {},
   "source": [
    "### Monte Carlo Methods\n",
    "The implementation of blackjack as a monte carlo algorithm"
   ]
  },
  {
   "cell_type": "markdown",
   "id": "85f8c079-69fb-43f6-9f61-f5632172e461",
   "metadata": {},
   "source": [
    "#### Explore BlackJack"
   ]
  },
  {
   "cell_type": "code",
   "execution_count": 4,
   "id": "2b4af1f7-b886-441f-a21a-3adbdbe9a7e1",
   "metadata": {},
   "outputs": [],
   "source": [
    "import sys\n",
    "import gym\n",
    "import numpy as np\n",
    "from collections import defaultdict"
   ]
  },
  {
   "cell_type": "markdown",
   "id": "ddbaefe7-1a79-44aa-84fe-419c3efa52bc",
   "metadata": {},
   "source": [
    "Let's explore the Blackjack environment"
   ]
  },
  {
   "cell_type": "code",
   "execution_count": 7,
   "id": "2af44d1d-01d1-47a2-887e-261ee523315c",
   "metadata": {},
   "outputs": [],
   "source": [
    "env = gym.make('Blackjack-v1')"
   ]
  },
  {
   "cell_type": "code",
   "execution_count": 9,
   "id": "67a13d86-5e0b-4f50-8239-004476a546c1",
   "metadata": {},
   "outputs": [
    {
     "name": "stdout",
     "output_type": "stream",
     "text": [
      "Tuple(Discrete(32), Discrete(11), Discrete(2))\n"
     ]
    }
   ],
   "source": [
    "print(env.observation_space)"
   ]
  },
  {
   "cell_type": "code",
   "execution_count": 10,
   "id": "1ef623e2-3329-431d-afd3-bf6a7107da79",
   "metadata": {},
   "outputs": [
    {
     "name": "stdout",
     "output_type": "stream",
     "text": [
      "Discrete(2)\n"
     ]
    }
   ],
   "source": [
    "print(env.action_space)"
   ]
  },
  {
   "cell_type": "code",
   "execution_count": 20,
   "id": "55bee18e-7363-4891-80b2-d113c8456afa",
   "metadata": {},
   "outputs": [
    {
     "name": "stdout",
     "output_type": "stream",
     "text": [
      "Discrete(2)\n"
     ]
    }
   ],
   "source": [
    "print(env.action_space)"
   ]
  },
  {
   "cell_type": "markdown",
   "id": "4a8a8c8b-d844-47b4-9767-7f9c4c50c810",
   "metadata": {},
   "source": [
    "Each state is a 3-tuple of:\n",
    "- the player's current sum $\\in \\{0, 1, \\ldots, 31\\}$,\n",
    "- the dealer's face up card $\\in \\{1, \\ldots, 10\\}$, and\n",
    "- whether or not the player has a usable ace (`no` $=0$, `yes` $=1$).\n",
    "\n",
    "The agent has two potential actions:\n",
    "\n",
    "```\n",
    "    STICK = 0\n",
    "    HIT = 1\n",
    "```"
   ]
  },
  {
   "cell_type": "markdown",
   "id": "2bcbd094-c293-413e-bfde-c39f37410a42",
   "metadata": {},
   "source": [
    "##### Blackjack with a random policy. Here the agent interacts with the environment and plays this game for 5 times"
   ]
  },
  {
   "cell_type": "code",
   "execution_count": 21,
   "id": "31ea0586-fc24-44af-90ef-904b0c0e65ed",
   "metadata": {},
   "outputs": [
    {
     "name": "stdout",
     "output_type": "stream",
     "text": [
      "Starting State:  (16, 2, False)\n",
      "Agents observations about the environment:  (16, 2, False)\n",
      "End Game! Reward:  -1.0\n",
      "You lost :(\n",
      "Other information:  {}\n",
      "\n",
      "\n",
      "Starting State:  (15, 3, False)\n",
      "Agents observations about the environment:  (15, 3, False)\n",
      "End Game! Reward:  1.0\n",
      "You Won :)\n",
      "Other information:  {}\n",
      "\n",
      "\n",
      "Starting State:  (10, 9, False)\n",
      "Agents observations about the environment:  (10, 9, False)\n",
      "End Game! Reward:  -1.0\n",
      "You lost :(\n",
      "Other information:  {}\n",
      "\n",
      "\n",
      "Starting State:  (19, 6, False)\n",
      "Agents observations about the environment:  (29, 6, False)\n",
      "End Game! Reward:  -1.0\n",
      "You lost :(\n",
      "Other information:  {}\n",
      "\n",
      "\n",
      "Starting State:  (17, 8, False)\n",
      "Agents observations about the environment:  (17, 8, False)\n",
      "End Game! Reward:  1.0\n",
      "You Won :)\n",
      "Other information:  {}\n",
      "\n",
      "\n"
     ]
    }
   ],
   "source": [
    "num_episodes = 5\n",
    "for i_episode in range(num_episodes):\n",
    "    state = env.reset() # Resets the environment to an initial state and returns an initial observation.\n",
    "    while True:\n",
    "        print('Starting State: ', state)\n",
    "        action = env.action_space.sample() \n",
    "        # Randomly sample an element of this space. Can be uniform or non-uniform sampling based on boundedness of space.\n",
    "        # Here the actionspace is discrete with only two values 0, 1\n",
    "        \n",
    "        state, reward, done, info = env.step(action)\n",
    "        # Run one timestep of the environment's dynamics. When end of episode is reached, you are responsible for calling `reset()` to reset this environment's state.\n",
    "        # Input Args : An action provided by agent\n",
    "        # Returns - \n",
    "        # Observation : agent's observation of the current environment\n",
    "        # reward (float) : amount of reward returned after previous action\n",
    "        # done (bool): whether the episode has ended, in which case further step() calls will return undefined results\n",
    "        # info (dict): contains auxiliary diagnostic information (helpful for debugging, and sometimes learning)\n",
    "        \n",
    "        if done:\n",
    "            print('Agents observations about the environment: ', state)\n",
    "            print(\"End Game! Reward: \", reward)\n",
    "            print(\"You Won :)\") if reward > 0 else print(\"You lost :(\")\n",
    "            print(\"Other information: \", info)\n",
    "            print(\"\\n\")\n",
    "            break"
   ]
  },
  {
   "cell_type": "markdown",
   "id": "52e798a1-8072-4ef0-890b-f8366f9410e1",
   "metadata": {},
   "source": [
    "#### Monte Carlo (MC) prediction\n",
    "Here we will write the implemantation of MC prediction for estimating the Action-Value function. \n",
    "\n",
    "We will begin by investigating a policy where the player almost always sticks if the sum of her cards exceeds 18. In particular, she selects action STICK with 80% probability if the sum is greater than 18; and, if the sum is 18 or below, she selects action HIT with 80% probability. \n",
    "\n",
    "The function accepts as **input**:\n",
    "- `bj_env`: This is an instance of OpenAI Gym's Blackjack environment.\n",
    "\n",
    "It returns as **output**:\n",
    "- `episode`: This is a list of (state, action, reward) tuples (of tuples) and corresponds to $(S_0, A_0, R_1, \\ldots, S_{T-1}, A_{T-1}, R_{T})$, where $T$ is the final time step.  In particular, `episode[i]` returns $(S_i, A_i, R_{i+1})$, and `episode[i][0]`, `episode[i][1]`, and `episode[i][2]` return $S_i$, $A_i$, and $R_{i+1}$, respectively."
   ]
  },
  {
   "cell_type": "code",
   "execution_count": 22,
   "id": "e1db68b3-4fca-48a8-8adc-db8d99576662",
   "metadata": {},
   "outputs": [],
   "source": [
    "# The below function samples as episode using the above policy\n",
    "\n",
    "def generate_episode_from_limit_stochastic(bj_env):\n",
    "    episode = []\n",
    "    state = bj_env.reset()\n",
    "    while True:\n",
    "        probs = [0.8, 0.2] if state[0] > 18 else [0.2, 0.8]\n",
    "        action = np.random.choice(np.arange(2), p = probs)\n",
    "        next_state, reward, done, info = bj_env.step(action)\n",
    "        episode.append((state, action, reward))\n",
    "        state = next_state\n",
    "        if done:\n",
    "            break\n",
    "    return episode"
   ]
  },
  {
   "cell_type": "code",
   "execution_count": 23,
   "id": "2a80d467-89cd-4766-b03e-bab3920e7cf0",
   "metadata": {},
   "outputs": [
    {
     "name": "stdout",
     "output_type": "stream",
     "text": [
      "[((10, 3, False), 0, 1.0)]\n",
      "[((20, 7, False), 0, 1.0)]\n",
      "[((16, 3, False), 1, -1.0)]\n",
      "[((15, 1, True), 1, 0.0), ((20, 1, True), 1, 0.0), ((20, 1, False), 1, -1.0)]\n",
      "[((17, 6, False), 1, -1.0)]\n"
     ]
    }
   ],
   "source": [
    "# Let's play blackjack with this policy-\n",
    "for i in range(5):\n",
    "    print(generate_episode_from_limit_stochastic(env))"
   ]
  },
  {
   "cell_type": "markdown",
   "id": "130eeccc-6c20-4f3f-aa29-c0e73c098788",
   "metadata": {},
   "source": [
    "Now we will use this policy mentioned above and estimate the corresponding Action Value Function Q(s,a). We will implement First-Visit MC prediction. In case of Blackjack both are equivalent as we will never come back to the same state.\n",
    "\n",
    "The algorithm has four arguments -\n",
    "* env : Instance of an OpenAI gym environment\n",
    "* num_episodes : This is the number of episodes that are generated through agent-environment interaction\n",
    "* generate_episodes : This is a function that returns an episode of interaction\n",
    "* gamma : This is a discount rate, must be a value between 0 and 1 (both inclusive). by default it is 1\n",
    "\n",
    "The algorithm returns -\n",
    "* Q : This is a dictionary (of one-dimensional array) where Q[s][a] is estimated action value corresponding to state s and action a."
   ]
  },
  {
   "cell_type": "code",
   "execution_count": 24,
   "id": "4889f5ff-ab2f-4786-87e9-0bd038f42735",
   "metadata": {},
   "outputs": [
    {
     "data": {
      "image/png": "[encoded data removed]",
      "text/plain": [
       "<IPython.core.display.Image object>"
      ]
     },
     "execution_count": 24,
     "metadata": {},
     "output_type": "execute_result"
    }
   ],
   "source": [
    "from IPython import display\n",
    "display.Image(\"./MC_firstVisit.PNG\")"
   ]
  },
  {
   "cell_type": "code",
   "execution_count": 72,
   "id": "dede6f76-fb6f-4285-87a3-77a4f315b32a",
   "metadata": {},
   "outputs": [],
   "source": [
    "def mc_prediction_q(env, num_episodes, generate_episode, gamma = 1.0):\n",
    "    # initialization\n",
    "    returns_sum = defaultdict(lambda: np.zeros(env.action_space.n))\n",
    "    N = defaultdict(lambda: np.zeros(env.action_space.n))\n",
    "    Q = defaultdict(lambda: np.zeros(env.action_space.n))\n",
    "    \n",
    "    # loop over all the episodes -\n",
    "    for i_episode in range(1, num_episodes+1):\n",
    "        if i_episode % 1000 == 0:\n",
    "            print(\"\\rEpisode {}/{}.\".format(i_episode, num_episodes), end=\"\")\n",
    "            sys.stdout.flush()\n",
    "        # generate an episode\n",
    "        episode = generate_episode(env)\n",
    "        print(episode)\n",
    "        # obtain the states, actions, and rewards\n",
    "        states, actions, rewards = zip(*episode)\n",
    "        # discounting\n",
    "        discounts = np.array([gamma**i for i in range(len(rewards) + 1)])\n",
    "        print(states, actions, rewards)\n",
    "        print(discounts)\n",
    "        print(returns_sum)\n",
    "        print('\\n')\n",
    "        \n",
    "        # update the sum of the returns, number of visits, and action-value function estimates for each state-action pair in the episode\n",
    "        for i, state in enumerate(states):\n",
    "            # note for blackjack first visit and every visit MC is equivalent so we are not checking if it is the first visit-\n",
    "            print(state, actions[i])\n",
    "            returns_sum[state][actions[i]] += sum(rewards[i:] * discounts[:-(1+i)])\n",
    "            print(sum(rewards[i:] * discounts[:-(1+i)]))\n",
    "            print(returns_sum)\n",
    "            N[state][actions[i]] += 1.0\n",
    "            print(N)\n",
    "            print('\\n')\n",
    "            Q[state][actions[i]] = returns_sum[state][actions[i]] / N[state][actions[i]] # every-visit MC so we are taking the average\n",
    "    return Q, N, returns_sum"
   ]
  },
  {
   "cell_type": "code",
   "execution_count": 73,
   "id": "e6bc6edd-b539-4062-9b9d-b8fee6fbfd44",
   "metadata": {},
   "outputs": [
    {
     "name": "stdout",
     "output_type": "stream",
     "text": [
      "[((13, 5, False), 1, 0.0), ((16, 5, False), 1, 0.0), ((19, 5, False), 0, 1.0)]\n",
      "((13, 5, False), (16, 5, False), (19, 5, False)) (1, 1, 0) (0.0, 0.0, 1.0)\n",
      "[1. 1. 1. 1.]\n",
      "defaultdict(<function mc_prediction_q.<locals>.<lambda> at 0x000001FEFDBB19D8>, {})\n",
      "\n",
      "\n",
      "(13, 5, False) 1\n",
      "1.0\n",
      "defaultdict(<function mc_prediction_q.<locals>.<lambda> at 0x000001FEFDBB19D8>, {(13, 5, False): array([0., 1.])})\n",
      "defaultdict(<function mc_prediction_q.<locals>.<lambda> at 0x000001FEFDBB1C18>, {(13, 5, False): array([0., 1.])})\n",
      "\n",
      "\n",
      "(16, 5, False) 1\n",
      "1.0\n",
      "defaultdict(<function mc_prediction_q.<locals>.<lambda> at 0x000001FEFDBB19D8>, {(13, 5, False): array([0., 1.]), (16, 5, False): array([0., 1.])})\n",
      "defaultdict(<function mc_prediction_q.<locals>.<lambda> at 0x000001FEFDBB1C18>, {(13, 5, False): array([0., 1.]), (16, 5, False): array([0., 1.])})\n",
      "\n",
      "\n",
      "(19, 5, False) 0\n",
      "1.0\n",
      "defaultdict(<function mc_prediction_q.<locals>.<lambda> at 0x000001FEFDBB19D8>, {(13, 5, False): array([0., 1.]), (16, 5, False): array([0., 1.]), (19, 5, False): array([1., 0.])})\n",
      "defaultdict(<function mc_prediction_q.<locals>.<lambda> at 0x000001FEFDBB1C18>, {(13, 5, False): array([0., 1.]), (16, 5, False): array([0., 1.]), (19, 5, False): array([1., 0.])})\n",
      "\n",
      "\n",
      "[((16, 10, False), 1, -1.0)]\n",
      "((16, 10, False),) (1,) (-1.0,)\n",
      "[1. 1.]\n",
      "defaultdict(<function mc_prediction_q.<locals>.<lambda> at 0x000001FEFDBB19D8>, {(13, 5, False): array([0., 1.]), (16, 5, False): array([0., 1.]), (19, 5, False): array([1., 0.])})\n",
      "\n",
      "\n",
      "(16, 10, False) 1\n",
      "-1.0\n",
      "defaultdict(<function mc_prediction_q.<locals>.<lambda> at 0x000001FEFDBB19D8>, {(13, 5, False): array([0., 1.]), (16, 5, False): array([0., 1.]), (19, 5, False): array([1., 0.]), (16, 10, False): array([ 0., -1.])})\n",
      "defaultdict(<function mc_prediction_q.<locals>.<lambda> at 0x000001FEFDBB1C18>, {(13, 5, False): array([0., 1.]), (16, 5, False): array([0., 1.]), (19, 5, False): array([1., 0.]), (16, 10, False): array([0., 1.])})\n",
      "\n",
      "\n",
      "[((16, 5, False), 0, 1.0)]\n",
      "((16, 5, False),) (0,) (1.0,)\n",
      "[1. 1.]\n",
      "defaultdict(<function mc_prediction_q.<locals>.<lambda> at 0x000001FEFDBB19D8>, {(13, 5, False): array([0., 1.]), (16, 5, False): array([0., 1.]), (19, 5, False): array([1., 0.]), (16, 10, False): array([ 0., -1.])})\n",
      "\n",
      "\n",
      "(16, 5, False) 0\n",
      "1.0\n",
      "defaultdict(<function mc_prediction_q.<locals>.<lambda> at 0x000001FEFDBB19D8>, {(13, 5, False): array([0., 1.]), (16, 5, False): array([1., 1.]), (19, 5, False): array([1., 0.]), (16, 10, False): array([ 0., -1.])})\n",
      "defaultdict(<function mc_prediction_q.<locals>.<lambda> at 0x000001FEFDBB1C18>, {(13, 5, False): array([0., 1.]), (16, 5, False): array([1., 1.]), (19, 5, False): array([1., 0.]), (16, 10, False): array([0., 1.])})\n",
      "\n",
      "\n",
      "[((11, 6, False), 0, -1.0)]\n",
      "((11, 6, False),) (0,) (-1.0,)\n",
      "[1. 1.]\n",
      "defaultdict(<function mc_prediction_q.<locals>.<lambda> at 0x000001FEFDBB19D8>, {(13, 5, False): array([0., 1.]), (16, 5, False): array([1., 1.]), (19, 5, False): array([1., 0.]), (16, 10, False): array([ 0., -1.])})\n",
      "\n",
      "\n",
      "(11, 6, False) 0\n",
      "-1.0\n",
      "defaultdict(<function mc_prediction_q.<locals>.<lambda> at 0x000001FEFDBB19D8>, {(13, 5, False): array([0., 1.]), (16, 5, False): array([1., 1.]), (19, 5, False): array([1., 0.]), (16, 10, False): array([ 0., -1.]), (11, 6, False): array([-1.,  0.])})\n",
      "defaultdict(<function mc_prediction_q.<locals>.<lambda> at 0x000001FEFDBB1C18>, {(13, 5, False): array([0., 1.]), (16, 5, False): array([1., 1.]), (19, 5, False): array([1., 0.]), (16, 10, False): array([0., 1.]), (11, 6, False): array([1., 0.])})\n",
      "\n",
      "\n",
      "[((14, 1, False), 0, -1.0)]\n",
      "((14, 1, False),) (0,) (-1.0,)\n",
      "[1. 1.]\n",
      "defaultdict(<function mc_prediction_q.<locals>.<lambda> at 0x000001FEFDBB19D8>, {(13, 5, False): array([0., 1.]), (16, 5, False): array([1., 1.]), (19, 5, False): array([1., 0.]), (16, 10, False): array([ 0., -1.]), (11, 6, False): array([-1.,  0.])})\n",
      "\n",
      "\n",
      "(14, 1, False) 0\n",
      "-1.0\n",
      "defaultdict(<function mc_prediction_q.<locals>.<lambda> at 0x000001FEFDBB19D8>, {(13, 5, False): array([0., 1.]), (16, 5, False): array([1., 1.]), (19, 5, False): array([1., 0.]), (16, 10, False): array([ 0., -1.]), (11, 6, False): array([-1.,  0.]), (14, 1, False): array([-1.,  0.])})\n",
      "defaultdict(<function mc_prediction_q.<locals>.<lambda> at 0x000001FEFDBB1C18>, {(13, 5, False): array([0., 1.]), (16, 5, False): array([1., 1.]), (19, 5, False): array([1., 0.]), (16, 10, False): array([0., 1.]), (11, 6, False): array([1., 0.]), (14, 1, False): array([1., 0.])})\n",
      "\n",
      "\n",
      "[((13, 10, False), 1, -1.0)]\n",
      "((13, 10, False),) (1,) (-1.0,)\n",
      "[1. 1.]\n",
      "defaultdict(<function mc_prediction_q.<locals>.<lambda> at 0x000001FEFDBB19D8>, {(13, 5, False): array([0., 1.]), (16, 5, False): array([1., 1.]), (19, 5, False): array([1., 0.]), (16, 10, False): array([ 0., -1.]), (11, 6, False): array([-1.,  0.]), (14, 1, False): array([-1.,  0.])})\n",
      "\n",
      "\n",
      "(13, 10, False) 1\n",
      "-1.0\n",
      "defaultdict(<function mc_prediction_q.<locals>.<lambda> at 0x000001FEFDBB19D8>, {(13, 5, False): array([0., 1.]), (16, 5, False): array([1., 1.]), (19, 5, False): array([1., 0.]), (16, 10, False): array([ 0., -1.]), (11, 6, False): array([-1.,  0.]), (14, 1, False): array([-1.,  0.]), (13, 10, False): array([ 0., -1.])})\n",
      "defaultdict(<function mc_prediction_q.<locals>.<lambda> at 0x000001FEFDBB1C18>, {(13, 5, False): array([0., 1.]), (16, 5, False): array([1., 1.]), (19, 5, False): array([1., 0.]), (16, 10, False): array([0., 1.]), (11, 6, False): array([1., 0.]), (14, 1, False): array([1., 0.]), (13, 10, False): array([0., 1.])})\n",
      "\n",
      "\n",
      "[((14, 10, False), 0, -1.0)]\n",
      "((14, 10, False),) (0,) (-1.0,)\n",
      "[1. 1.]\n",
      "defaultdict(<function mc_prediction_q.<locals>.<lambda> at 0x000001FEFDBB19D8>, {(13, 5, False): array([0., 1.]), (16, 5, False): array([1., 1.]), (19, 5, False): array([1., 0.]), (16, 10, False): array([ 0., -1.]), (11, 6, False): array([-1.,  0.]), (14, 1, False): array([-1.,  0.]), (13, 10, False): array([ 0., -1.])})\n",
      "\n",
      "\n",
      "(14, 10, False) 0\n",
      "-1.0\n",
      "defaultdict(<function mc_prediction_q.<locals>.<lambda> at 0x000001FEFDBB19D8>, {(13, 5, False): array([0., 1.]), (16, 5, False): array([1., 1.]), (19, 5, False): array([1., 0.]), (16, 10, False): array([ 0., -1.]), (11, 6, False): array([-1.,  0.]), (14, 1, False): array([-1.,  0.]), (13, 10, False): array([ 0., -1.]), (14, 10, False): array([-1.,  0.])})\n",
      "defaultdict(<function mc_prediction_q.<locals>.<lambda> at 0x000001FEFDBB1C18>, {(13, 5, False): array([0., 1.]), (16, 5, False): array([1., 1.]), (19, 5, False): array([1., 0.]), (16, 10, False): array([0., 1.]), (11, 6, False): array([1., 0.]), (14, 1, False): array([1., 0.]), (13, 10, False): array([0., 1.]), (14, 10, False): array([1., 0.])})\n",
      "\n",
      "\n",
      "[((20, 7, False), 1, -1.0)]\n",
      "((20, 7, False),) (1,) (-1.0,)\n",
      "[1. 1.]\n",
      "defaultdict(<function mc_prediction_q.<locals>.<lambda> at 0x000001FEFDBB19D8>, {(13, 5, False): array([0., 1.]), (16, 5, False): array([1., 1.]), (19, 5, False): array([1., 0.]), (16, 10, False): array([ 0., -1.]), (11, 6, False): array([-1.,  0.]), (14, 1, False): array([-1.,  0.]), (13, 10, False): array([ 0., -1.]), (14, 10, False): array([-1.,  0.])})\n",
      "\n",
      "\n",
      "(20, 7, False) 1\n",
      "-1.0\n",
      "defaultdict(<function mc_prediction_q.<locals>.<lambda> at 0x000001FEFDBB19D8>, {(13, 5, False): array([0., 1.]), (16, 5, False): array([1., 1.]), (19, 5, False): array([1., 0.]), (16, 10, False): array([ 0., -1.]), (11, 6, False): array([-1.,  0.]), (14, 1, False): array([-1.,  0.]), (13, 10, False): array([ 0., -1.]), (14, 10, False): array([-1.,  0.]), (20, 7, False): array([ 0., -1.])})\n",
      "defaultdict(<function mc_prediction_q.<locals>.<lambda> at 0x000001FEFDBB1C18>, {(13, 5, False): array([0., 1.]), (16, 5, False): array([1., 1.]), (19, 5, False): array([1., 0.]), (16, 10, False): array([0., 1.]), (11, 6, False): array([1., 0.]), (14, 1, False): array([1., 0.]), (13, 10, False): array([0., 1.]), (14, 10, False): array([1., 0.]), (20, 7, False): array([0., 1.])})\n",
      "\n",
      "\n",
      "[((16, 5, True), 1, 0.0), ((12, 5, False), 0, -1.0)]\n",
      "((16, 5, True), (12, 5, False)) (1, 0) (0.0, -1.0)\n",
      "[1. 1. 1.]\n",
      "defaultdict(<function mc_prediction_q.<locals>.<lambda> at 0x000001FEFDBB19D8>, {(13, 5, False): array([0., 1.]), (16, 5, False): array([1., 1.]), (19, 5, False): array([1., 0.]), (16, 10, False): array([ 0., -1.]), (11, 6, False): array([-1.,  0.]), (14, 1, False): array([-1.,  0.]), (13, 10, False): array([ 0., -1.]), (14, 10, False): array([-1.,  0.]), (20, 7, False): array([ 0., -1.])})\n",
      "\n",
      "\n",
      "(16, 5, True) 1\n",
      "-1.0\n",
      "defaultdict(<function mc_prediction_q.<locals>.<lambda> at 0x000001FEFDBB19D8>, {(13, 5, False): array([0., 1.]), (16, 5, False): array([1., 1.]), (19, 5, False): array([1., 0.]), (16, 10, False): array([ 0., -1.]), (11, 6, False): array([-1.,  0.]), (14, 1, False): array([-1.,  0.]), (13, 10, False): array([ 0., -1.]), (14, 10, False): array([-1.,  0.]), (20, 7, False): array([ 0., -1.]), (16, 5, True): array([ 0., -1.])})\n",
      "defaultdict(<function mc_prediction_q.<locals>.<lambda> at 0x000001FEFDBB1C18>, {(13, 5, False): array([0., 1.]), (16, 5, False): array([1., 1.]), (19, 5, False): array([1., 0.]), (16, 10, False): array([0., 1.]), (11, 6, False): array([1., 0.]), (14, 1, False): array([1., 0.]), (13, 10, False): array([0., 1.]), (14, 10, False): array([1., 0.]), (20, 7, False): array([0., 1.]), (16, 5, True): array([0., 1.])})\n",
      "\n",
      "\n",
      "(12, 5, False) 0\n",
      "-1.0\n",
      "defaultdict(<function mc_prediction_q.<locals>.<lambda> at 0x000001FEFDBB19D8>, {(13, 5, False): array([0., 1.]), (16, 5, False): array([1., 1.]), (19, 5, False): array([1., 0.]), (16, 10, False): array([ 0., -1.]), (11, 6, False): array([-1.,  0.]), (14, 1, False): array([-1.,  0.]), (13, 10, False): array([ 0., -1.]), (14, 10, False): array([-1.,  0.]), (20, 7, False): array([ 0., -1.]), (16, 5, True): array([ 0., -1.]), (12, 5, False): array([-1.,  0.])})\n",
      "defaultdict(<function mc_prediction_q.<locals>.<lambda> at 0x000001FEFDBB1C18>, {(13, 5, False): array([0., 1.]), (16, 5, False): array([1., 1.]), (19, 5, False): array([1., 0.]), (16, 10, False): array([0., 1.]), (11, 6, False): array([1., 0.]), (14, 1, False): array([1., 0.]), (13, 10, False): array([0., 1.]), (14, 10, False): array([1., 0.]), (20, 7, False): array([0., 1.]), (16, 5, True): array([0., 1.]), (12, 5, False): array([1., 0.])})\n",
      "\n",
      "\n",
      "[((11, 7, False), 0, -1.0)]\n",
      "((11, 7, False),) (0,) (-1.0,)\n",
      "[1. 1.]\n",
      "defaultdict(<function mc_prediction_q.<locals>.<lambda> at 0x000001FEFDBB19D8>, {(13, 5, False): array([0., 1.]), (16, 5, False): array([1., 1.]), (19, 5, False): array([1., 0.]), (16, 10, False): array([ 0., -1.]), (11, 6, False): array([-1.,  0.]), (14, 1, False): array([-1.,  0.]), (13, 10, False): array([ 0., -1.]), (14, 10, False): array([-1.,  0.]), (20, 7, False): array([ 0., -1.]), (16, 5, True): array([ 0., -1.]), (12, 5, False): array([-1.,  0.])})\n",
      "\n",
      "\n",
      "(11, 7, False) 0\n",
      "-1.0\n",
      "defaultdict(<function mc_prediction_q.<locals>.<lambda> at 0x000001FEFDBB19D8>, {(13, 5, False): array([0., 1.]), (16, 5, False): array([1., 1.]), (19, 5, False): array([1., 0.]), (16, 10, False): array([ 0., -1.]), (11, 6, False): array([-1.,  0.]), (14, 1, False): array([-1.,  0.]), (13, 10, False): array([ 0., -1.]), (14, 10, False): array([-1.,  0.]), (20, 7, False): array([ 0., -1.]), (16, 5, True): array([ 0., -1.]), (12, 5, False): array([-1.,  0.]), (11, 7, False): array([-1.,  0.])})\n",
      "defaultdict(<function mc_prediction_q.<locals>.<lambda> at 0x000001FEFDBB1C18>, {(13, 5, False): array([0., 1.]), (16, 5, False): array([1., 1.]), (19, 5, False): array([1., 0.]), (16, 10, False): array([0., 1.]), (11, 6, False): array([1., 0.]), (14, 1, False): array([1., 0.]), (13, 10, False): array([0., 1.]), (14, 10, False): array([1., 0.]), (20, 7, False): array([0., 1.]), (16, 5, True): array([0., 1.]), (12, 5, False): array([1., 0.]), (11, 7, False): array([1., 0.])})\n",
      "\n",
      "\n"
     ]
    }
   ],
   "source": [
    "# Let's compute action-value function estimate Q using 500,000 episodes.\n",
    "Q, N, R = mc_prediction_q(env, 10, generate_episode_from_limit_stochastic)"
   ]
  },
  {
   "cell_type": "code",
   "execution_count": 49,
   "id": "3aad9ec0-fe69-496a-9b0b-e50ce76b776e",
   "metadata": {},
   "outputs": [
    {
     "data": {
      "text/plain": [
       "defaultdict(<function __main__.mc_prediction_q.<locals>.<lambda>()>,\n",
       "            {(13, 10, True): array([ 0., -1.]),\n",
       "             (16, 10, True): array([ 0., -1.]),\n",
       "             (14, 10, False): array([ 1., -1.]),\n",
       "             (15, 10, False): array([ 0., -1.]),\n",
       "             (17, 10, False): array([ 0., -1.]),\n",
       "             (15, 7, False): array([1., 0.]),\n",
       "             (21, 10, True): array([1., 0.]),\n",
       "             (14, 5, False): array([ 0., -1.]),\n",
       "             (11, 7, False): array([-1.,  0.]),\n",
       "             (15, 5, False): array([ 0., -1.]),\n",
       "             (18, 10, False): array([ 0., -1.]),\n",
       "             (15, 2, False): array([ 0., -1.]),\n",
       "             (20, 2, False): array([ 0., -1.]),\n",
       "             (18, 10, True): array([-1.,  0.])})"
      ]
     },
     "execution_count": 49,
     "metadata": {},
     "output_type": "execute_result"
    }
   ],
   "source": [
    "Q"
   ]
  },
  {
   "cell_type": "code",
   "execution_count": 45,
   "id": "36a25b88-530f-4fda-87b0-4b75e8160481",
   "metadata": {},
   "outputs": [
    {
     "data": {
      "text/plain": [
       "defaultdict(<function __main__.mc_prediction_q.<locals>.<lambda>()>,\n",
       "            {(18, 2, False): array([0., 1.]),\n",
       "             (21, 1, True): array([1., 0.]),\n",
       "             (11, 9, False): array([0., 1.]),\n",
       "             (19, 9, False): array([1., 0.]),\n",
       "             (12, 6, False): array([0., 1.]),\n",
       "             (18, 6, False): array([0., 1.]),\n",
       "             (16, 10, False): array([0., 1.]),\n",
       "             (15, 9, False): array([0., 1.]),\n",
       "             (16, 9, False): array([1., 0.]),\n",
       "             (10, 10, False): array([0., 1.]),\n",
       "             (15, 10, False): array([1., 0.]),\n",
       "             (11, 2, False): array([1., 0.]),\n",
       "             (4, 8, False): array([0., 1.]),\n",
       "             (13, 8, False): array([1., 0.]),\n",
       "             (12, 5, False): array([0., 1.])})"
      ]
     },
     "execution_count": 45,
     "metadata": {},
     "output_type": "execute_result"
    }
   ],
   "source": [
    "N"
   ]
  },
  {
   "cell_type": "code",
   "execution_count": 46,
   "id": "89659c32-637d-4166-8d8e-fda153ce049e",
   "metadata": {},
   "outputs": [
    {
     "data": {
      "text/plain": [
       "defaultdict(<function __main__.mc_prediction_q.<locals>.<lambda>()>,\n",
       "            {(18, 2, False): array([ 0., -1.]),\n",
       "             (21, 1, True): array([0., 0.]),\n",
       "             (11, 9, False): array([0., 1.]),\n",
       "             (19, 9, False): array([1., 0.]),\n",
       "             (12, 6, False): array([ 0., -1.]),\n",
       "             (18, 6, False): array([ 0., -1.]),\n",
       "             (16, 10, False): array([ 0., -1.]),\n",
       "             (15, 9, False): array([ 0., -1.]),\n",
       "             (16, 9, False): array([-1.,  0.]),\n",
       "             (10, 10, False): array([ 0., -1.]),\n",
       "             (15, 10, False): array([-1.,  0.]),\n",
       "             (11, 2, False): array([-1.,  0.]),\n",
       "             (4, 8, False): array([ 0., -1.]),\n",
       "             (13, 8, False): array([-1.,  0.]),\n",
       "             (12, 5, False): array([ 0., -1.])})"
      ]
     },
     "execution_count": 46,
     "metadata": {},
     "output_type": "execute_result"
    }
   ],
   "source": [
    "R"
   ]
  },
  {
   "cell_type": "code",
   "execution_count": null,
   "id": "93da3281-c66d-4483-b851-857e1774e0f1",
   "metadata": {},
   "outputs": [],
   "source": []
  }
 ],
 "metadata": {
  "kernelspec": {
   "display_name": "rl-kernel",
   "language": "python",
   "name": "rl-kernel"
  },
  "language_info": {
   "codemirror_mode": {
    "name": "ipython",
    "version": 3
   },
   "file_extension": ".py",
   "mimetype": "text/x-python",
   "name": "python",
   "nbconvert_exporter": "python",
   "pygments_lexer": "ipython3",
   "version": "3.7.9"
  }
 },
 "nbformat": 4,
 "nbformat_minor": 5
}
